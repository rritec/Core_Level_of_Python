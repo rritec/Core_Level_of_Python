{
 "cells": [
  {
   "cell_type": "markdown",
   "metadata": {},
   "source": [
    "<table class=\"tfo-notebook-buttons\" align=\"left\">\n",
    "  <td>\n",
    "    <a target=\"_blank\" href=\"https://colab.research.google.com/github/rritec/Core_Level_of_Python/blob/master/DS01_01_introduction_and_installation.ipynb\"><img src=\"https://www.tensorflow.org/images/colab_logo_32px.png\" />Run in Google Colab</a>\n",
    "  </td>\n",
    "  <td>\n",
    "    <a target=\"_blank\" href=\"https://github.com/rritec/Core_Level_of_Python/blob/master/DS01_01_introduction_and_installation.ipynb\"><img src=\"https://www.tensorflow.org/images/GitHub-Mark-32px.png\" />View source on GitHub</a>\n",
    "  </td>\n",
    "</table>"
   ]
  },
  {
   "cell_type": "markdown",
   "metadata": {
    "colab_type": "text",
    "id": "-znxYi7YQ8yF"
   },
   "source": [
    "# 1. Python Author\n",
    "- **Guido van Rossum**\n",
    "\n",
    "![image.png](https://github.com/rritec/datahexa/blob/master/images/python_author.png?raw=true)\n",
    "\n",
    "is a Dutch(Europe) programmer who is best known as the author of the **Python programming language**\n",
    "- [Read more in offline](https://gvanrossum.github.io//)"
   ]
  },
  {
   "cell_type": "markdown",
   "metadata": {
    "colab_type": "text",
    "id": "X58zGipSQ8yK"
   },
   "source": [
    "# 2. Python Introduction\n",
    "- Python is a programming language that lets you work **quickly** and **integrate systems** more effectively.\n",
    "- Python is open Source! `Free! Free! Free!`\n",
    "- Use python **General Purpose:** build anything\n",
    "\n",
    "    ![image.png](https://github.com/rritec/datahexa/blob/master/images/python_can_do.png?raw=true)\n",
    "\n",
    "- Python mainly has two version `Python 2.x` and `Python 3.x`. For more information [refer](https://www.python.org/downloads/)\n",
    "\n",
    "- python2.X is no more https://pythonclock.org/\n",
    "\n",
    "- Python has lot of packages around [242497 +](https://pypi.org/)\n",
    "- Do i need to install directly python ?\n",
    "    - **No**. if we go direct then we need to spend lot of time to install one by one package of datascience\n",
    "    - The solution is **install Anaconda**\n",
    "\n"
   ]
  },
  {
   "cell_type": "markdown",
   "metadata": {
    "colab_type": "text",
    "id": "S-WR060cQ8yM"
   },
   "source": [
    "# 3. Anaconda ?\n",
    "\n",
    "- What is Anaconda?\n",
    "    - [The Most Popular Python Data Science Platform](https://www.anaconda.com/what-is-anaconda/)\n",
    "\n",
    "- [Anaconda Software](https://www.anaconda.com/download/) is a bundle of\n",
    "    - python software \n",
    "    - Around 1400 python packages of data science \n",
    "    - UI Tools like orange,IDEs(spyder,Jupyter,jupyter lab,vs code) ...etc\n",
    "  "
   ]
  },
  {
   "cell_type": "markdown",
   "metadata": {
    "colab_type": "text",
    "id": "0fj08WOZQ8yP"
   },
   "source": [
    "# 4. Anaconda Installation\n",
    "- Download latest version https://www.anaconda.com/distribution/\n",
    "- Just click on `exe` file and follow the wizard with `default` options and install it.  \n",
    "- If required refer [help](https://docs.anaconda.com/anaconda/install/windows/) document for installation"
   ]
  },
  {
   "cell_type": "markdown",
   "metadata": {},
   "source": [
    "* `Note:`If you need old versions try this --> Click on link https://repo.continuum.io/archive/ \n",
    "    * for example anaconda with python 3.6 , Download version as for your os `Anaconda3-5.2.0-<os type>`"
   ]
  },
  {
   "cell_type": "markdown",
   "metadata": {
    "colab_type": "text",
    "id": "quxUGdtZ5ONl"
   },
   "source": [
    "# 5. Instal Notepad ++(optional)\n",
    "- [Download and Install](https://repo.anaconda.com/archive/Anaconda3-2023.07-2-Windows-x86_64.exe)"
   ]
  },
  {
   "cell_type": "markdown",
   "metadata": {
    "colab_type": "text",
    "id": "zI38Lb8c6OKs"
   },
   "source": [
    "`Home Work` : complet Installation of anaconda "
   ]
  },
  {
   "cell_type": "code",
   "execution_count": null,
   "metadata": {
    "colab": {},
    "colab_type": "code",
    "id": "B-m65_Db6GBY"
   },
   "outputs": [],
   "source": []
  }
 ],
 "metadata": {
  "colab": {
   "name": "DS01_01_introduction_and_installation.ipynb",
   "provenance": []
  },
  "kernelspec": {
   "display_name": "Python 3",
   "language": "python",
   "name": "python3"
  },
  "language_info": {
   "codemirror_mode": {
    "name": "ipython",
    "version": 3
   },
   "file_extension": ".py",
   "mimetype": "text/x-python",
   "name": "python",
   "nbconvert_exporter": "python",
   "pygments_lexer": "ipython3",
   "version": "3.6.9"
  },
  "toc-autonumbering": false
 },
 "nbformat": 4,
 "nbformat_minor": 4
}
