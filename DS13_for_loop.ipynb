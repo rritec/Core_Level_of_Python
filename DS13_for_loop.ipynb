{
 "cells": [
  {
   "cell_type": "markdown",
   "metadata": {
    "colab_type": "text",
    "id": "rUBEydDwS9MP"
   },
   "source": [
    "# `For Loop`\n",
    "---------\n",
    "- Python’s for statement iterates over the items of any below **sequence** objects, in the order that they appear in the sequence\n",
    "    - string\n",
    "    - list \n",
    "    - tuple\n",
    "    - dictionary    \n",
    "    - set\n",
    "    - range\n",
    "    - ... etc \n",
    "2.\tFor each item in object(list, Dictionary...etc) , execute expression"
   ]
  },
  {
   "cell_type": "markdown",
   "metadata": {
    "colab_type": "text",
    "id": "bZyNAw4wS9MR"
   },
   "source": [
    "## Exercise 1: Read list of items"
   ]
  },
  {
   "cell_type": "markdown",
   "metadata": {
    "colab_type": "text",
    "id": "sjuipoI5S9MS"
   },
   "source": [
    "> understand range function by seeing help document and below examples\n",
    "\n",
    "    range syntax is \n",
    "> <code>range(start, stop[, step]) -> range object</code>"
   ]
  },
  {
   "cell_type": "code",
   "execution_count": null,
   "metadata": {
    "colab": {},
    "colab_type": "code",
    "id": "WV6QOMjUS9MT"
   },
   "outputs": [],
   "source": [
    "range?"
   ]
  },
  {
   "cell_type": "code",
   "execution_count": null,
   "metadata": {
    "colab": {},
    "colab_type": "code",
    "id": "xS2m0i7PS9MY"
   },
   "outputs": [],
   "source": [
    "a_list1 =list(range(5,101,5))"
   ]
  },
  {
   "cell_type": "code",
   "execution_count": 2,
   "metadata": {
    "colab": {
     "base_uri": "https://localhost:8080/",
     "height": 364
    },
    "colab_type": "code",
    "executionInfo": {
     "elapsed": 1342,
     "status": "ok",
     "timestamp": 1567224806329,
     "user": {
      "displayName": "Ram Reddy",
      "photoUrl": "https://lh3.googleusercontent.com/a-/AAuE7mA34vyJicUC8cNJdprQy8Mthw2GtbFhrrLEHDDVGg=s64",
      "userId": "14166999692284653328"
     },
     "user_tz": -330
    },
    "id": "lDZHd_aZS9Mb",
    "outputId": "78df60e9-d9ce-47c1-b217-1aa6279cf032"
   },
   "outputs": [
    {
     "data": {
      "text/plain": [
       "[5,\n",
       " 10,\n",
       " 15,\n",
       " 20,\n",
       " 25,\n",
       " 30,\n",
       " 35,\n",
       " 40,\n",
       " 45,\n",
       " 50,\n",
       " 55,\n",
       " 60,\n",
       " 65,\n",
       " 70,\n",
       " 75,\n",
       " 80,\n",
       " 85,\n",
       " 90,\n",
       " 95,\n",
       " 100]"
      ]
     },
     "execution_count": 2,
     "metadata": {
      "tags": []
     },
     "output_type": "execute_result"
    }
   ],
   "source": [
    "a_list1"
   ]
  },
  {
   "cell_type": "code",
   "execution_count": null,
   "metadata": {
    "colab": {},
    "colab_type": "code",
    "id": "xIycJV06S9Mi"
   },
   "outputs": [],
   "source": [
    "a_list = list(range(1,10,2))"
   ]
  },
  {
   "cell_type": "code",
   "execution_count": null,
   "metadata": {
    "colab": {},
    "colab_type": "code",
    "id": "SR-fCas3S9Ml",
    "outputId": "21636634-90f6-4a92-ab5d-c74294ca7768"
   },
   "outputs": [
    {
     "data": {
      "text/plain": [
       "[1, 3, 5, 7, 9]"
      ]
     },
     "execution_count": 4,
     "metadata": {
      "tags": []
     },
     "output_type": "execute_result"
    }
   ],
   "source": [
    "a_list"
   ]
  },
  {
   "cell_type": "code",
   "execution_count": null,
   "metadata": {
    "colab": {},
    "colab_type": "code",
    "id": "jS0NXRqxS9Mq",
    "outputId": "cf01d3d3-a115-4fb0-a44f-52ae3902458b"
   },
   "outputs": [
    {
     "name": "stdout",
     "output_type": "stream",
     "text": [
      "iter value is : 1\n",
      "iter value is : 3\n",
      "iter value is : 5\n",
      "iter value is : 7\n",
      "iter value is : 9\n"
     ]
    }
   ],
   "source": [
    "for i in a_list:\n",
    "    print(\"iter value is : \" + str(i))   "
   ]
  },
  {
   "cell_type": "markdown",
   "metadata": {
    "colab_type": "text",
    "id": "xAutm3H9S9Mu"
   },
   "source": [
    "## Exercise 2: Read list of items with indexes"
   ]
  },
  {
   "cell_type": "markdown",
   "metadata": {
    "colab_type": "text",
    "id": "1KzQ4_-hS9Mv"
   },
   "source": [
    "> understand enumerate function\n",
    "\n",
    "the syntax is \n",
    "\n",
    "> <code>enumerate(iterable[, start]) -> iterator for index, value of iterable</code>\n"
   ]
  },
  {
   "cell_type": "code",
   "execution_count": null,
   "metadata": {
    "colab": {},
    "colab_type": "code",
    "id": "a51LpuegS9Mw"
   },
   "outputs": [],
   "source": [
    "enumerate?"
   ]
  },
  {
   "cell_type": "code",
   "execution_count": null,
   "metadata": {
    "colab": {},
    "colab_type": "code",
    "id": "s4HdC1QSS9M0",
    "outputId": "75261424-5980-4c2b-ce93-5d1ff8982b55"
   },
   "outputs": [
    {
     "name": "stdout",
     "output_type": "stream",
     "text": [
      "The index : 0   Respective Value  : A\n",
      "The index : 1   Respective Value  : B\n",
      "The index : 2   Respective Value  : E\n",
      "The index : 3   Respective Value  : F\n"
     ]
    }
   ],
   "source": [
    "for index,value in enumerate(\"ABEF\"): # by defauly index number starts from 0\n",
    "    print(\"The index :\",index,\"  Respective Value  :\",value)"
   ]
  },
  {
   "cell_type": "code",
   "execution_count": null,
   "metadata": {
    "colab": {},
    "colab_type": "code",
    "id": "vhng9w-7S9M5",
    "outputId": "bf1543fb-73f9-4f5f-b8fb-3839ca72333d"
   },
   "outputs": [
    {
     "name": "stdout",
     "output_type": "stream",
     "text": [
      "The index : 1   Respective Value  : A\n",
      "The index : 2   Respective Value  : B\n",
      "The index : 3   Respective Value  : E\n",
      "The index : 4   Respective Value  : F\n"
     ]
    }
   ],
   "source": [
    "for index,value in enumerate(\"ABEF\",1): # we can override index start\n",
    "    print(\"The index :\",index,\"  Respective Value  :\",value)"
   ]
  },
  {
   "cell_type": "code",
   "execution_count": null,
   "metadata": {
    "colab": {},
    "colab_type": "code",
    "id": "4WtzTYAOS9M9",
    "outputId": "bb38e2cc-b916-4055-e8fd-1e7242abd041"
   },
   "outputs": [
    {
     "data": {
      "text/plain": [
       "[1, 3, 5, 7, 9]"
      ]
     },
     "execution_count": 15,
     "metadata": {
      "tags": []
     },
     "output_type": "execute_result"
    }
   ],
   "source": [
    "a_list"
   ]
  },
  {
   "cell_type": "code",
   "execution_count": null,
   "metadata": {
    "colab": {},
    "colab_type": "code",
    "id": "b6CYeloTS9NB",
    "outputId": "00391731-43e8-4b4b-df3d-95cd56141d43"
   },
   "outputs": [
    {
     "name": "stdout",
     "output_type": "stream",
     "text": [
      "iter number =======1\n",
      "the index is : 1\n",
      "the value is : 1\n",
      "iter number =======2\n",
      "the index is : 2\n",
      "the value is : 3\n",
      "iter number =======3\n",
      "the index is : 3\n",
      "the value is : 5\n",
      "iter number =======4\n",
      "the index is : 4\n",
      "the value is : 7\n",
      "iter number =======5\n",
      "the index is : 5\n",
      "the value is : 9\n"
     ]
    }
   ],
   "source": [
    "for index,value in enumerate(a_list,1):\n",
    "    print (\"iter number =======\" + str(index))\n",
    "    print (\"the index is : \" + str(index))\n",
    "    print (\"the value is : \"+ str(value))\n",
    "    "
   ]
  },
  {
   "cell_type": "markdown",
   "metadata": {
    "colab_type": "text",
    "id": "-Upc8aXCS9NF"
   },
   "source": [
    "## Exercise 3: Print alternative list items"
   ]
  },
  {
   "cell_type": "code",
   "execution_count": null,
   "metadata": {
    "colab": {},
    "colab_type": "code",
    "id": "Sx6UiUztS9NG",
    "outputId": "9daf9e70-fc15-43e3-9e72-896c10fe195d"
   },
   "outputs": [
    {
     "data": {
      "text/plain": [
       "[1, 3, 5, 7, 9]"
      ]
     },
     "execution_count": 22,
     "metadata": {
      "tags": []
     },
     "output_type": "execute_result"
    }
   ],
   "source": [
    "a_list"
   ]
  },
  {
   "cell_type": "code",
   "execution_count": null,
   "metadata": {
    "colab": {},
    "colab_type": "code",
    "id": "zy_9zBAhS9NK",
    "outputId": "b3bcd4f1-0f2c-4941-cd33-66871663d1f5"
   },
   "outputs": [
    {
     "name": "stdout",
     "output_type": "stream",
     "text": [
      "1\n",
      "5\n",
      "9\n"
     ]
    }
   ],
   "source": [
    "for index,value in enumerate(a_list,start= 1):    \n",
    "    if index%2 != 0:\n",
    "        print(value)       "
   ]
  },
  {
   "cell_type": "markdown",
   "metadata": {},
   "source": [
    "## Sending mail to multiple users from your Gmail account"
   ]
  },
  {
   "cell_type": "code",
   "execution_count": 4,
   "metadata": {},
   "outputs": [
    {
     "name": "stdout",
     "output_type": "stream",
     "text": [
      "rritec@gmail.com\n",
      "dwramreddy@gmail.com\n"
     ]
    }
   ],
   "source": [
    "import pandas as pd\n",
    "df =pd.read_csv(\"C:\\\\Users\\\\ramreddymyla\\\\Desktop\\\\maillist.csv\")\n",
    "for i in df.mails:\n",
    "    print(i)"
   ]
  },
  {
   "cell_type": "markdown",
   "metadata": {},
   "source": [
    "- Create app password by folowing this blog https://support.google.com/mail/answer/185833?hl=en"
   ]
  },
  {
   "cell_type": "code",
   "execution_count": 1,
   "metadata": {},
   "outputs": [
    {
     "name": "stdin",
     "output_type": "stream",
     "text": [
      "please enter password: ········\n"
     ]
    },
    {
     "name": "stdout",
     "output_type": "stream",
     "text": [
      "sending mail ...\n",
      "Sent Mail\n"
     ]
    }
   ],
   "source": [
    "# Python code to illustrate Sending mail  \n",
    "# to multiple users  \n",
    "# from your Gmail account  \n",
    "import smtplib\n",
    "import getpass\n",
    "  \n",
    "# list of email_id to send the mail \n",
    "li = [\"rritec@gmail.com\", \"dwramreddy@gmail.com\"] \n",
    "# get password from user\n",
    "p = getpass.getpass(\"please enter password:\") # note it is application level password,if you do not have generate it\n",
    "print(\"sending mail ...\")\n",
    "for i in range(len(li)): \n",
    "    s = smtplib.SMTP('smtp.gmail.com', 587) \n",
    "    s.starttls() \n",
    "    s.login(\"dwramreddy@gmail.com\", p) \n",
    "    message = \"Test mail passed\"\n",
    "    s.sendmail(\"sender_email_id\", li[i], message) \n",
    "    s.quit() \n",
    "print(\"Sent Mail\")"
   ]
  },
  {
   "cell_type": "markdown",
   "metadata": {
    "colab": {},
    "colab_type": "code",
    "id": "DjImOvgVS9NQ"
   },
   "source": [
    "`Home Works`:\n",
    "1. Do all howeworks of while loop with for loop"
   ]
  }
 ],
 "metadata": {
  "colab": {
   "name": "DS13_for_loop.ipynb",
   "provenance": [],
   "version": "0.3.2"
  },
  "kernelspec": {
   "display_name": "Python 3 (ipykernel)",
   "language": "python",
   "name": "python3"
  },
  "language_info": {
   "codemirror_mode": {
    "name": "ipython",
    "version": 3
   },
   "file_extension": ".py",
   "mimetype": "text/x-python",
   "name": "python",
   "nbconvert_exporter": "python",
   "pygments_lexer": "ipython3",
   "version": "3.9.13"
  }
 },
 "nbformat": 4,
 "nbformat_minor": 4
}
